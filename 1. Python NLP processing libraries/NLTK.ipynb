{
 "cells": [
  {
   "cell_type": "code",
   "execution_count": 4,
   "metadata": {},
   "outputs": [
    {
     "name": "stderr",
     "output_type": "stream",
     "text": [
      "[nltk_data] Downloading package punkt to\n",
      "[nltk_data]     C:\\Users\\George\\AppData\\Roaming\\nltk_data...\n",
      "[nltk_data]   Unzipping tokenizers\\punkt.zip.\n"
     ]
    },
    {
     "data": {
      "text/plain": [
       "True"
      ]
     },
     "execution_count": 4,
     "metadata": {},
     "output_type": "execute_result"
    }
   ],
   "source": [
    "import nltk\n",
    "nltk.download('punkt')"
   ]
  },
  {
   "cell_type": "markdown",
   "metadata": {},
   "source": [
    "### Tokenization"
   ]
  },
  {
   "cell_type": "code",
   "execution_count": 1,
   "metadata": {},
   "outputs": [],
   "source": [
    "from nltk.tokenize import word_tokenize\n",
    "from nltk.text import Text"
   ]
  },
  {
   "cell_type": "code",
   "execution_count": 2,
   "metadata": {},
   "outputs": [],
   "source": [
    "input_str = \"Today's weather is good, very windy and sunny, we have no classes in the afternoon. We shall play basketball.\""
   ]
  },
  {
   "cell_type": "code",
   "execution_count": 6,
   "metadata": {},
   "outputs": [],
   "source": [
    "tokens = word_tokenize(input_str)\n"
   ]
  },
  {
   "cell_type": "code",
   "execution_count": 7,
   "metadata": {},
   "outputs": [
    {
     "data": {
      "text/plain": [
       "['today', \"'s\", 'weather', 'is', 'good']"
      ]
     },
     "execution_count": 7,
     "metadata": {},
     "output_type": "execute_result"
    }
   ],
   "source": [
    "tokens = [word.lower() for word in tokens]\n",
    "tokens[:5]"
   ]
  },
  {
   "cell_type": "markdown",
   "metadata": {},
   "source": [
    "### Text object"
   ]
  },
  {
   "cell_type": "code",
   "execution_count": 9,
   "metadata": {},
   "outputs": [],
   "source": [
    "t = Text(tokens)"
   ]
  },
  {
   "cell_type": "code",
   "execution_count": 10,
   "metadata": {},
   "outputs": [
    {
     "data": {
      "text/plain": [
       "1"
      ]
     },
     "execution_count": 10,
     "metadata": {},
     "output_type": "execute_result"
    }
   ],
   "source": [
    "t.count('good')"
   ]
  },
  {
   "cell_type": "code",
   "execution_count": 11,
   "metadata": {},
   "outputs": [
    {
     "data": {
      "text/plain": [
       "4"
      ]
     },
     "execution_count": 11,
     "metadata": {},
     "output_type": "execute_result"
    }
   ],
   "source": [
    "t.index('good')"
   ]
  },
  {
   "cell_type": "code",
   "execution_count": 13,
   "metadata": {},
   "outputs": [
    {
     "data": {
      "image/png": "[encoded data removed]",
      "text/plain": [
       "<Figure size 432x288 with 1 Axes>"
      ]
     },
     "metadata": {
      "needs_background": "light"
     },
     "output_type": "display_data"
    }
   ],
   "source": [
    "t.plot(8)\n"
   ]
  },
  {
   "cell_type": "markdown",
   "metadata": {},
   "source": [
    "### Stop Words"
   ]
  },
  {
   "cell_type": "code",
   "execution_count": 15,
   "metadata": {},
   "outputs": [
    {
     "name": "stderr",
     "output_type": "stream",
     "text": [
      "[nltk_data] Downloading package stopwords to\n",
      "[nltk_data]     C:\\Users\\George\\AppData\\Roaming\\nltk_data...\n",
      "[nltk_data]   Unzipping corpora\\stopwords.zip.\n"
     ]
    },
    {
     "data": {
      "text/plain": [
       "True"
      ]
     },
     "execution_count": 15,
     "metadata": {},
     "output_type": "execute_result"
    }
   ],
   "source": [
    "import nltk\n",
    "nltk.download('stopwords')"
   ]
  },
  {
   "cell_type": "code",
   "execution_count": 16,
   "metadata": {},
   "outputs": [
    {
     "data": {
      "text/plain": [
       "'Stopwords Corpus  This corpus contains lists of stop words for several languages.  These are high-frequency grammatical words which are usually ignored in text retrieval applications.  They were obtained from: http://anoncvs.postgresql.org/cvsweb.cgi/pgsql/src/backend/snowball/stopwords/  The stop words for the Romanian language were obtained from: http://arlc.ro/resources/  The English list has been augmented https://github.com/nltk/nltk_data/issues/22  The German list has been corrected https://github.com/nltk/nltk_data/pull/49  A Kazakh list has been added https://github.com/nltk/nltk_data/pull/52  A Nepali list has been added https://github.com/nltk/nltk_data/pull/83  An Azerbaijani list has been added https://github.com/nltk/nltk_data/pull/100  A Greek list has been added https://github.com/nltk/nltk_data/pull/103  An Indonesian list has been added https://github.com/nltk/nltk_data/pull/112 '"
      ]
     },
     "execution_count": 16,
     "metadata": {},
     "output_type": "execute_result"
    }
   ],
   "source": [
    "from nltk.corpus import stopwords\n",
    "stopwords.readme().replace('\\n', ' ')"
   ]
  },
  {
   "cell_type": "code",
   "execution_count": 17,
   "metadata": {},
   "outputs": [
    {
     "data": {
      "text/plain": [
       "['arabic',\n",
       " 'azerbaijani',\n",
       " 'danish',\n",
       " 'dutch',\n",
       " 'english',\n",
       " 'finnish',\n",
       " 'french',\n",
       " 'german',\n",
       " 'greek',\n",
       " 'hungarian',\n",
       " 'indonesian',\n",
       " 'italian',\n",
       " 'kazakh',\n",
       " 'nepali',\n",
       " 'norwegian',\n",
       " 'portuguese',\n",
       " 'romanian',\n",
       " 'russian',\n",
       " 'slovene',\n",
       " 'spanish',\n",
       " 'swedish',\n",
       " 'tajik',\n",
       " 'turkish']"
      ]
     },
     "execution_count": 17,
     "metadata": {},
     "output_type": "execute_result"
    }
   ],
   "source": [
    "stopwords.fileids()"
   ]
  },
  {
   "cell_type": "code",
   "execution_count": 18,
   "metadata": {},
   "outputs": [
    {
     "data": {
      "text/plain": [
       "\"i me my myself we our ours ourselves you you're you've you'll you'd your yours yourself yourselves he him his himself she she's her hers herself it it's its itself they them their theirs themselves what which who whom this that that'll these those am is are was were be been being have has had having do does did doing a an the and but if or because as until while of at by for with about against between into through during before after above below to from up down in out on off over under again further then once here there when where why how all any both each few more most other some such no nor not only own same so than too very s t can will just don don't should should've now d ll m o re ve y ain aren aren't couldn couldn't didn didn't doesn doesn't hadn hadn't hasn hasn't haven haven't isn isn't ma mightn mightn't mustn mustn't needn needn't shan shan't shouldn shouldn't wasn wasn't weren weren't won won't wouldn wouldn't \""
      ]
     },
     "execution_count": 18,
     "metadata": {},
     "output_type": "execute_result"
    }
   ],
   "source": [
    "stopwords.raw('english').replace('\\n', ' ')"
   ]
  },
  {
   "cell_type": "code",
   "execution_count": 20,
   "metadata": {},
   "outputs": [],
   "source": [
    "test_words = [word.lower() for word in tokens]\n",
    "test_words_set = set(test_words)"
   ]
  },
  {
   "cell_type": "code",
   "execution_count": 21,
   "metadata": {},
   "outputs": [
    {
     "data": {
      "text/plain": [
       "{'and', 'have', 'in', 'is', 'no', 'the', 'very', 'we'}"
      ]
     },
     "execution_count": 21,
     "metadata": {},
     "output_type": "execute_result"
    }
   ],
   "source": [
    "test_words_set.intersection(set(stopwords.words('english')))"
   ]
  },
  {
   "cell_type": "markdown",
   "metadata": {},
   "source": [
    "### filter stopwords"
   ]
  },
  {
   "cell_type": "code",
   "execution_count": 22,
   "metadata": {},
   "outputs": [
    {
     "data": {
      "text/plain": [
       "['classes',\n",
       " 'today',\n",
       " 'shall',\n",
       " '.',\n",
       " 'good',\n",
       " 'sunny',\n",
       " 'weather',\n",
       " 'windy',\n",
       " 'basketball',\n",
       " ',',\n",
       " 'afternoon',\n",
       " 'play']"
      ]
     },
     "execution_count": 22,
     "metadata": {},
     "output_type": "execute_result"
    }
   ],
   "source": [
    "filtered  = [w for w in test_words_set if (w not in stopwords.raw('english'))]\n",
    "filtered"
   ]
  },
  {
   "cell_type": "markdown",
   "metadata": {},
   "source": [
    "### Part-of-Speech (PoS) tagging"
   ]
  },
  {
   "cell_type": "code",
   "execution_count": 23,
   "metadata": {},
   "outputs": [
    {
     "name": "stdout",
     "output_type": "stream",
     "text": [
      "showing info https://raw.githubusercontent.com/nltk/nltk_data/gh-pages/index.xml\n"
     ]
    },
    {
     "data": {
      "text/plain": [
       "True"
      ]
     },
     "execution_count": 23,
     "metadata": {},
     "output_type": "execute_result"
    }
   ],
   "source": [
    "nltk.download()"
   ]
  },
  {
   "cell_type": "code",
   "execution_count": 25,
   "metadata": {},
   "outputs": [
    {
     "data": {
      "text/plain": [
       "[('today', 'NN'),\n",
       " (\"'s\", 'POS'),\n",
       " ('weather', 'NN'),\n",
       " ('is', 'VBZ'),\n",
       " ('good', 'JJ'),\n",
       " (',', ','),\n",
       " ('very', 'RB'),\n",
       " ('windy', 'JJ'),\n",
       " ('and', 'CC'),\n",
       " ('sunny', 'JJ'),\n",
       " (',', ','),\n",
       " ('we', 'PRP'),\n",
       " ('have', 'VBP'),\n",
       " ('no', 'DT'),\n",
       " ('classes', 'NNS'),\n",
       " ('in', 'IN'),\n",
       " ('the', 'DT'),\n",
       " ('afternoon', 'NN'),\n",
       " ('.', '.'),\n",
       " ('we', 'PRP'),\n",
       " ('shall', 'MD'),\n",
       " ('play', 'VB'),\n",
       " ('basketball', 'NN'),\n",
       " ('.', '.')]"
      ]
     },
     "execution_count": 25,
     "metadata": {},
     "output_type": "execute_result"
    }
   ],
   "source": [
    "from nltk import pos_tag\n",
    "tags = pos_tag(tokens)\n",
    "tags"
   ]
  },
  {
   "cell_type": "markdown",
   "metadata": {},
   "source": [
    "| POS Tag |指代 |\n",
    "| --- | --- |\n",
    "| CC | 并列连词 |\n",
    "| CD | 基数词 |\n",
    "| DT | 限定符|\n",
    "| EX | 存在词|\n",
    "| FW |外来词 |\n",
    "| IN | 介词或从属连词|\n",
    "| JJ | 形容词 |\n",
    "| JJR | 比较级的形容词  |\n",
    "| JJS | 最高级的形容词 |\n",
    "| LS | 列表项标记 |\n",
    "| MD | 情态动词 |\n",
    "| NN |名词单数|\n",
    "| NNS | 名词复数  |\n",
    "| NNP |专有名词|\n",
    "| PDT | 前置限定词 |\n",
    "| POS | 所有格结尾|\n",
    "| PRP | 人称代词  |\n",
    "| PRP$ | 所有格代词 |\n",
    "| RB |副词 |\n",
    "| RBR | 副词比较级 |\n",
    "| RBS | 副词最高级 |\n",
    "| RP | 小品词 |\n",
    "| UH | 感叹词 |\n",
    "| VB |动词原型 |\n",
    "| VBD | 动词过去式 |\n",
    "| VBG |动名词或现在分词 |\n",
    "| VBN |动词过去分词|\n",
    "| VBP |非第三人称单数的现在时|\n",
    "| VBZ | 第三人称单数的现在时 |\n",
    "| WDT |以wh开头的限定词 |"
   ]
  },
  {
   "cell_type": "markdown",
   "metadata": {},
   "source": [
    "### chunking"
   ]
  },
  {
   "cell_type": "code",
   "execution_count": 26,
   "metadata": {},
   "outputs": [],
   "source": [
    "from nltk.chunk import RegexpParser"
   ]
  },
  {
   "cell_type": "code",
   "execution_count": 27,
   "metadata": {},
   "outputs": [
    {
     "name": "stdout",
     "output_type": "stream",
     "text": [
      "(S (MY_NP the/DT little/JJ yellow/JJ dog/NN) died/VBD)\n"
     ]
    }
   ],
   "source": [
    "sentence = [('the','DT'),('little','JJ'),('yellow','JJ'),('dog','NN'),('died','VBD')]\n",
    "grammer = \"MY_NP: {<DT>?<JJ>*<NN>}\"\n",
    "cp = nltk.RegexpParser(grammer) #form pattern\n",
    "result = cp.parse(sentence) #chunking\n",
    "print(result)\n",
    "\n",
    "result.draw() #use matplotlib to draw"
   ]
  },
  {
   "cell_type": "markdown",
   "metadata": {},
   "source": [
    "### Named Entity Recognition"
   ]
  },
  {
   "cell_type": "code",
   "execution_count": 28,
   "metadata": {},
   "outputs": [
    {
     "name": "stdout",
     "output_type": "stream",
     "text": [
      "showing info https://raw.githubusercontent.com/nltk/nltk_data/gh-pages/index.xml\n"
     ]
    },
    {
     "data": {
      "text/plain": [
       "True"
      ]
     },
     "execution_count": 28,
     "metadata": {},
     "output_type": "execute_result"
    }
   ],
   "source": [
    "nltk.download()\n",
    "# maxent_ne_chunke\n",
    "#words"
   ]
  },
  {
   "cell_type": "code",
   "execution_count": 29,
   "metadata": {},
   "outputs": [
    {
     "name": "stdout",
     "output_type": "stream",
     "text": [
      "(S\n",
      "  (PERSON Edison/NNP)\n",
      "  went/VBD\n",
      "  to/TO\n",
      "  (ORGANIZATION Tsinghua/NNP University/NNP)\n",
      "  today/NN\n",
      "  ./.)\n"
     ]
    }
   ],
   "source": [
    "from nltk import ne_chunk\n",
    "sentence = 'Edison went to Tsinghua University today.'\n",
    "print(ne_chunk(pos_tag(word_tokenize(sentence))))"
   ]
  },
  {
   "cell_type": "markdown",
   "metadata": {},
   "source": [
    "### Data cleaning example"
   ]
  },
  {
   "cell_type": "code",
   "execution_count": 31,
   "metadata": {},
   "outputs": [
    {
     "name": "stdout",
     "output_type": "stream",
     "text": [
      "raw text data:     RT @Amila #Test\n",
      "Tom's newly listed Co  &amp; Mary's unlisted     Group to supply tech for nlTK.\n",
      "h $TSLA $AAPL https:// t.co/x34afsfQsh \n",
      "\n",
      "after cleaned special tags:      RT  \n",
      "Tom's newly listed Co   Mary's unlisted     Group to supply tech for nlTK.\n",
      "h $TSLA $AAPL https:// t.co/x34afsfQsh \n",
      "\n",
      "after cleaned tickers:     RT  \n",
      "Tom's newly listed Co   Mary's unlisted     Group to supply tech for nlTK.\n",
      "h   https:// t.co/x34afsfQsh \n",
      "\n",
      "after cleaned hyperlinks:     RT  \n",
      "Tom's newly listed Co   Mary's unlisted     Group to supply tech for nlTK.\n",
      "h    \n",
      "\n",
      "after cleaned small words:       \n",
      "Tom' newly listed    Mary' unlisted     Group  supply tech for nlTK.\n",
      "    \n",
      "\n",
      "after removing spaces: Tom' newly listed Mary' unlisted Group supply tech for nlTK.  \n",
      "\n",
      "tokenized:  ['Tom', \"'\", 'newly', 'listed', 'Mary', \"'\", 'unlisted', 'Group', 'supply', 'tech', 'for', 'nlTK', '.'] \n",
      "\n",
      "removed stopwords: ['Tom', \"'\", 'newly', 'listed', 'Mary', \"'\", 'unlisted', 'Group', 'supply', 'tech', 'nlTK', '.'] \n",
      "\n",
      "after filtered: Tom ' newly listed Mary ' unlisted Group supply tech nlTK .\n"
     ]
    }
   ],
   "source": [
    "import re\n",
    "from nltk.corpus import stopwords\n",
    "# imput data\n",
    "s = '    RT @Amila #Test\\nTom\\'s newly listed Co  &amp; Mary\\'s unlisted     Group to supply tech for nlTK.\\nh $TSLA $AAPL https:// t.co/x34afsfQsh'\n",
    "\n",
    "#stopwords = english\n",
    "cache_english_stopwords = stopwords.words('english')\n",
    "\n",
    "def text_clean(text):\n",
    "    print('raw text data:', text, '\\n')\n",
    "    \n",
    "    #get rid of HTML tags (e.g. &amp)\n",
    "    text_no_special_entities = re.sub(r'\\&\\w*;|#\\w*|@\\w*', '', text)\n",
    "    print('after cleaned special tags: ', text_no_special_entities, '\\n')\n",
    "    \n",
    "    # get rid of tickers\n",
    "    text_no_tickers = re.sub(r'\\$\\w*', '', text_no_special_entities) \n",
    "    print('after cleaned tickers:', text_no_tickers, '\\n')\n",
    "    \n",
    "    #get rid of hyperlinks\n",
    "    text_no_hyperlinks = re.sub(r'https?:\\/\\/.*\\/\\w*', '', text_no_tickers) \n",
    "    print('after cleaned hyperlinks:', text_no_hyperlinks, '\\n')\n",
    "    \n",
    "    # get rid of the abbreviation, in other words, words with fewer letter\n",
    "    text_no_small_words = re.sub(r'\\b\\w{1,2}\\b', '', text_no_hyperlinks) \n",
    "    print('after cleaned small words:', text_no_small_words, '\\n')\n",
    "    \n",
    "    # Remove extra spaces\n",
    "    text_no_whitespace = re.sub(r'\\s\\s+', ' ', text_no_small_words)\n",
    "    text_no_whitespace = text_no_whitespace.lstrip(' ') \n",
    "    print('after removing spaces:', text_no_whitespace, '\\n')\n",
    "    \n",
    "    #tokenization\n",
    "    tokens = word_tokenize(text_no_whitespace)\n",
    "    print('tokenized: ', tokens, '\\n')\n",
    "    \n",
    "    # remove stopwords\n",
    "    list_no_stopwords = [i for i in tokens if i not in cache_english_stopwords]\n",
    "    print('removed stopwords:', list_no_stopwords, '\\n')\n",
    "    \n",
    "    #join the list of words\n",
    "    text_filtered = ' '.join(list_no_stopwords) # ''.join() would join without spaces between words.\n",
    "    print('after filtered:', text_filtered)\n",
    "   \n",
    "text_clean(s)"
   ]
  }
 ],
 "metadata": {
  "kernelspec": {
   "display_name": "Python 3",
   "language": "python",
   "name": "python3"
  },
  "language_info": {
   "codemirror_mode": {
    "name": "ipython",
    "version": 3
   },
   "file_extension": ".py",
   "mimetype": "text/x-python",
   "name": "python",
   "nbconvert_exporter": "python",
   "pygments_lexer": "ipython3",
   "version": "3.6.2"
  }
 },
 "nbformat": 4,
 "nbformat_minor": 2
}
